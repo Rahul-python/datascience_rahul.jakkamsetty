{
 "cells": [
  {
   "cell_type": "code",
   "execution_count": 37,
   "metadata": {},
   "outputs": [],
   "source": [
    "from bs4 import BeautifulSoup as BS\n",
    "import requests\n",
    "import json\n",
    "import pandas as pd\n",
    "import numpy as np"
   ]
  },
  {
   "cell_type": "code",
   "execution_count": 38,
   "metadata": {},
   "outputs": [],
   "source": [
    "\n",
    "page=requests.get('https://www.worldometers.info/world-population/population-by-country/')"
   ]
  },
  {
   "cell_type": "code",
   "execution_count": 39,
   "metadata": {},
   "outputs": [],
   "source": [
    "soup=BS(page.text,'html')"
   ]
  },
  {
   "cell_type": "code",
   "execution_count": 40,
   "metadata": {},
   "outputs": [],
   "source": [
    "tb=soup.find('table')"
   ]
  },
  {
   "cell_type": "code",
   "execution_count": 41,
   "metadata": {},
   "outputs": [],
   "source": [
    "country=[];count=[]\n",
    "tr=tb.find_all('tr')\n",
    "for i in range(1,len(tr)):\n",
    "    na=tr[i].find_all('td')\n",
    "    country.append(str(na[1].find('a'))[str((na[1].find('a'))).index('>')+1:-4])\n",
    "    count.append(int((str(na[2])[str(na[2]).index('>')+1:-5]).replace(',','')))\n",
    "    #population_df[str(na[1].find('a'))[str((na[1].find('a'))).index('>')+1:-4]]=((str(na[2])[str(na[2]).index('>')+1:-5]).replace(',',''))"
   ]
  },
  {
   "cell_type": "code",
   "execution_count": 45,
   "metadata": {},
   "outputs": [],
   "source": [
    "final=pd.DataFrame({str(country):count})"
   ]
  },
  {
   "cell_type": "code",
   "execution_count": 47,
   "metadata": {},
   "outputs": [
    {
     "ename": "TypeError",
     "evalue": "unhashable type: 'list'",
     "output_type": "error",
     "traceback": [
      "\u001b[1;31m---------------------------------------------------------------------------\u001b[0m",
      "\u001b[1;31mTypeError\u001b[0m                                 Traceback (most recent call last)",
      "\u001b[1;32m<ipython-input-47-a2955a533443>\u001b[0m in \u001b[0;36m<module>\u001b[1;34m\u001b[0m\n\u001b[1;32m----> 1\u001b[1;33m \u001b[1;33m{\u001b[0m\u001b[0mcountry\u001b[0m\u001b[1;33m:\u001b[0m\u001b[0mcount\u001b[0m\u001b[1;33m}\u001b[0m\u001b[1;33m\u001b[0m\u001b[1;33m\u001b[0m\u001b[0m\n\u001b[0m",
      "\u001b[1;31mTypeError\u001b[0m: unhashable type: 'list'"
     ]
    }
   ],
   "source": [
    "{country:count}"
   ]
  },
  {
   "cell_type": "code",
   "execution_count": 34,
   "metadata": {},
   "outputs": [],
   "source": [
    "final=pd.concat((pd.DataFrame(country),pd.DataFrame(count)),axis=1)"
   ]
  },
  {
   "cell_type": "code",
   "execution_count": 36,
   "metadata": {},
   "outputs": [
    {
     "data": {
      "text/html": [
       "<div>\n",
       "<style scoped>\n",
       "    .dataframe tbody tr th:only-of-type {\n",
       "        vertical-align: middle;\n",
       "    }\n",
       "\n",
       "    .dataframe tbody tr th {\n",
       "        vertical-align: top;\n",
       "    }\n",
       "\n",
       "    .dataframe thead th {\n",
       "        text-align: right;\n",
       "    }\n",
       "</style>\n",
       "<table border=\"1\" class=\"dataframe\">\n",
       "  <thead>\n",
       "    <tr style=\"text-align: right;\">\n",
       "      <th></th>\n",
       "      <th>0</th>\n",
       "      <th>1</th>\n",
       "      <th>2</th>\n",
       "      <th>3</th>\n",
       "      <th>4</th>\n",
       "      <th>5</th>\n",
       "      <th>6</th>\n",
       "      <th>7</th>\n",
       "      <th>8</th>\n",
       "      <th>9</th>\n",
       "      <th>...</th>\n",
       "      <th>225</th>\n",
       "      <th>226</th>\n",
       "      <th>227</th>\n",
       "      <th>228</th>\n",
       "      <th>229</th>\n",
       "      <th>230</th>\n",
       "      <th>231</th>\n",
       "      <th>232</th>\n",
       "      <th>233</th>\n",
       "      <th>234</th>\n",
       "    </tr>\n",
       "  </thead>\n",
       "  <tbody>\n",
       "    <tr>\n",
       "      <th>0</th>\n",
       "      <td>China</td>\n",
       "      <td>India</td>\n",
       "      <td>United States</td>\n",
       "      <td>Indonesia</td>\n",
       "      <td>Pakistan</td>\n",
       "      <td>Brazil</td>\n",
       "      <td>Nigeria</td>\n",
       "      <td>Bangladesh</td>\n",
       "      <td>Russia</td>\n",
       "      <td>Mexico</td>\n",
       "      <td>...</td>\n",
       "      <td>Wallis &amp;amp; Futuna</td>\n",
       "      <td>Nauru</td>\n",
       "      <td>Saint Barthelemy</td>\n",
       "      <td>Saint Helena</td>\n",
       "      <td>Saint Pierre &amp;amp; Miquelon</td>\n",
       "      <td>Montserrat</td>\n",
       "      <td>Falkland Islands</td>\n",
       "      <td>Niue</td>\n",
       "      <td>Tokelau</td>\n",
       "      <td>Holy See</td>\n",
       "    </tr>\n",
       "    <tr>\n",
       "      <th>0</th>\n",
       "      <td>1439323776</td>\n",
       "      <td>1380004385</td>\n",
       "      <td>331002651</td>\n",
       "      <td>273523615</td>\n",
       "      <td>220892340</td>\n",
       "      <td>212559417</td>\n",
       "      <td>206139589</td>\n",
       "      <td>164689383</td>\n",
       "      <td>145934462</td>\n",
       "      <td>128932753</td>\n",
       "      <td>...</td>\n",
       "      <td>11239</td>\n",
       "      <td>10824</td>\n",
       "      <td>9877</td>\n",
       "      <td>6077</td>\n",
       "      <td>5794</td>\n",
       "      <td>4992</td>\n",
       "      <td>3480</td>\n",
       "      <td>1626</td>\n",
       "      <td>1357</td>\n",
       "      <td>801</td>\n",
       "    </tr>\n",
       "  </tbody>\n",
       "</table>\n",
       "<p>2 rows × 235 columns</p>\n",
       "</div>"
      ],
      "text/plain": [
       "          0           1              2          3          4          5    \\\n",
       "0       China       India  United States  Indonesia   Pakistan     Brazil   \n",
       "0  1439323776  1380004385      331002651  273523615  220892340  212559417   \n",
       "\n",
       "         6           7          8          9    ...                  225  \\\n",
       "0    Nigeria  Bangladesh     Russia     Mexico  ...  Wallis &amp; Futuna   \n",
       "0  206139589   164689383  145934462  128932753  ...                11239   \n",
       "\n",
       "     226               227           228                          229  \\\n",
       "0  Nauru  Saint Barthelemy  Saint Helena  Saint Pierre &amp; Miquelon   \n",
       "0  10824              9877          6077                         5794   \n",
       "\n",
       "          230               231   232      233       234  \n",
       "0  Montserrat  Falkland Islands  Niue  Tokelau  Holy See  \n",
       "0        4992              3480  1626     1357       801  \n",
       "\n",
       "[2 rows x 235 columns]"
      ]
     },
     "execution_count": 36,
     "metadata": {},
     "output_type": "execute_result"
    }
   ],
   "source": [
    "final.set_index()"
   ]
  },
  {
   "cell_type": "code",
   "execution_count": null,
   "metadata": {},
   "outputs": [],
   "source": []
  },
  {
   "cell_type": "code",
   "execution_count": null,
   "metadata": {},
   "outputs": [],
   "source": []
  },
  {
   "cell_type": "code",
   "execution_count": null,
   "metadata": {},
   "outputs": [],
   "source": []
  },
  {
   "cell_type": "code",
   "execution_count": null,
   "metadata": {},
   "outputs": [],
   "source": []
  },
  {
   "cell_type": "code",
   "execution_count": null,
   "metadata": {},
   "outputs": [],
   "source": []
  },
  {
   "cell_type": "code",
   "execution_count": null,
   "metadata": {},
   "outputs": [],
   "source": []
  },
  {
   "cell_type": "code",
   "execution_count": null,
   "metadata": {},
   "outputs": [],
   "source": []
  },
  {
   "cell_type": "code",
   "execution_count": 11,
   "metadata": {},
   "outputs": [],
   "source": []
  },
  {
   "cell_type": "code",
   "execution_count": null,
   "metadata": {},
   "outputs": [],
   "source": []
  },
  {
   "cell_type": "code",
   "execution_count": null,
   "metadata": {
    "scrolled": true
   },
   "outputs": [],
   "source": []
  },
  {
   "cell_type": "code",
   "execution_count": null,
   "metadata": {},
   "outputs": [],
   "source": []
  },
  {
   "cell_type": "code",
   "execution_count": null,
   "metadata": {},
   "outputs": [],
   "source": []
  },
  {
   "cell_type": "code",
   "execution_count": null,
   "metadata": {},
   "outputs": [],
   "source": []
  },
  {
   "cell_type": "code",
   "execution_count": 21,
   "metadata": {},
   "outputs": [],
   "source": []
  },
  {
   "cell_type": "code",
   "execution_count": 27,
   "metadata": {},
   "outputs": [],
   "source": []
  },
  {
   "cell_type": "code",
   "execution_count": null,
   "metadata": {},
   "outputs": [],
   "source": []
  },
  {
   "cell_type": "code",
   "execution_count": null,
   "metadata": {},
   "outputs": [],
   "source": []
  }
 ],
 "metadata": {
  "kernelspec": {
   "display_name": "Python 3",
   "language": "python",
   "name": "python3"
  },
  "language_info": {
   "codemirror_mode": {
    "name": "ipython",
    "version": 3
   },
   "file_extension": ".py",
   "mimetype": "text/x-python",
   "name": "python",
   "nbconvert_exporter": "python",
   "pygments_lexer": "ipython3",
   "version": "3.8.3"
  }
 },
 "nbformat": 4,
 "nbformat_minor": 4
}
